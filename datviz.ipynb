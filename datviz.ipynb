{
 "cells": [
  {
   "cell_type": "code",
   "execution_count": 4,
   "id": "f6010158-b4c0-4f62-934e-f7b0e2565cd0",
   "metadata": {},
   "outputs": [],
   "source": [
    "# pip install matplotlib"
   ]
  },
  {
   "cell_type": "code",
   "execution_count": 6,
   "id": "086e7965-4222-47ec-b648-fa4e22edd2f0",
   "metadata": {},
   "outputs": [
    {
     "ename": "ShapefileException",
     "evalue": "Shapefile Reader requires a shapefile or file-like object. (no dbf file found)",
     "output_type": "error",
     "traceback": [
      "\u001b[1;31m---------------------------------------------------------------------------\u001b[0m",
      "\u001b[1;31mShapefileException\u001b[0m                        Traceback (most recent call last)",
      "Cell \u001b[1;32mIn[6], line 6\u001b[0m\n\u001b[0;32m      4\u001b[0m sf \u001b[38;5;241m=\u001b[39m shp\u001b[38;5;241m.\u001b[39mReader(\u001b[38;5;124m\"\u001b[39m\u001b[38;5;124m./ch2_tmc_cal.shp\u001b[39m\u001b[38;5;124m\"\u001b[39m)\n\u001b[0;32m      5\u001b[0m plt\u001b[38;5;241m.\u001b[39mfigure()\n\u001b[1;32m----> 6\u001b[0m \u001b[38;5;28;01mfor\u001b[39;00m shape \u001b[38;5;129;01min\u001b[39;00m \u001b[43msf\u001b[49m\u001b[38;5;241;43m.\u001b[39;49m\u001b[43mshapeRecords\u001b[49m\u001b[43m(\u001b[49m\u001b[43m)\u001b[49m:\n\u001b[0;32m      7\u001b[0m     x \u001b[38;5;241m=\u001b[39m [i[\u001b[38;5;241m0\u001b[39m] \u001b[38;5;28;01mfor\u001b[39;00m i \u001b[38;5;129;01min\u001b[39;00m shape\u001b[38;5;241m.\u001b[39mshape\u001b[38;5;241m.\u001b[39mpoints[:]]\n\u001b[0;32m      8\u001b[0m     y \u001b[38;5;241m=\u001b[39m [i[\u001b[38;5;241m1\u001b[39m] \u001b[38;5;28;01mfor\u001b[39;00m i \u001b[38;5;129;01min\u001b[39;00m shape\u001b[38;5;241m.\u001b[39mshape\u001b[38;5;241m.\u001b[39mpoints[:]]\n",
      "File \u001b[1;32m~\\AppData\\Local\\Programs\\Python\\Python38\\lib\\site-packages\\shapefile.py:1759\u001b[0m, in \u001b[0;36mReader.shapeRecords\u001b[1;34m(self, fields, bbox)\u001b[0m\n\u001b[0;32m   1751\u001b[0m \u001b[38;5;28;01mdef\u001b[39;00m \u001b[38;5;21mshapeRecords\u001b[39m(\u001b[38;5;28mself\u001b[39m, fields\u001b[38;5;241m=\u001b[39m\u001b[38;5;28;01mNone\u001b[39;00m, bbox\u001b[38;5;241m=\u001b[39m\u001b[38;5;28;01mNone\u001b[39;00m):\n\u001b[0;32m   1752\u001b[0m \u001b[38;5;250m    \u001b[39m\u001b[38;5;124;03m\"\"\"Returns a list of combination geometry/attribute records for\u001b[39;00m\n\u001b[0;32m   1753\u001b[0m \u001b[38;5;124;03m    all records in a shapefile.\u001b[39;00m\n\u001b[0;32m   1754\u001b[0m \u001b[38;5;124;03m    To only read some of the fields, specify the 'fields' arg as a\u001b[39;00m\n\u001b[1;32m   (...)\u001b[0m\n\u001b[0;32m   1757\u001b[0m \u001b[38;5;124;03m    arg as a list or tuple of xmin,ymin,xmax,ymax. \u001b[39;00m\n\u001b[0;32m   1758\u001b[0m \u001b[38;5;124;03m    \"\"\"\u001b[39;00m\n\u001b[1;32m-> 1759\u001b[0m     \u001b[38;5;28;01mreturn\u001b[39;00m \u001b[43mShapeRecords\u001b[49m\u001b[43m(\u001b[49m\u001b[38;5;28;43mself\u001b[39;49m\u001b[38;5;241;43m.\u001b[39;49m\u001b[43miterShapeRecords\u001b[49m\u001b[43m(\u001b[49m\u001b[43mfields\u001b[49m\u001b[38;5;241;43m=\u001b[39;49m\u001b[43mfields\u001b[49m\u001b[43m,\u001b[49m\u001b[43m \u001b[49m\u001b[43mbbox\u001b[49m\u001b[38;5;241;43m=\u001b[39;49m\u001b[43mbbox\u001b[49m\u001b[43m)\u001b[49m\u001b[43m)\u001b[49m\n",
      "File \u001b[1;32m~\\AppData\\Local\\Programs\\Python\\Python38\\lib\\site-packages\\shapefile.py:1771\u001b[0m, in \u001b[0;36mReader.iterShapeRecords\u001b[1;34m(self, fields, bbox)\u001b[0m\n\u001b[0;32m   1762\u001b[0m \u001b[38;5;250m\u001b[39m\u001b[38;5;124;03m\"\"\"Returns a generator of combination geometry/attribute records for\u001b[39;00m\n\u001b[0;32m   1763\u001b[0m \u001b[38;5;124;03mall records in a shapefile.\u001b[39;00m\n\u001b[0;32m   1764\u001b[0m \u001b[38;5;124;03mTo only read some of the fields, specify the 'fields' arg as a\u001b[39;00m\n\u001b[1;32m   (...)\u001b[0m\n\u001b[0;32m   1767\u001b[0m \u001b[38;5;124;03marg as a list or tuple of xmin,ymin,xmax,ymax. \u001b[39;00m\n\u001b[0;32m   1768\u001b[0m \u001b[38;5;124;03m\"\"\"\u001b[39;00m\n\u001b[0;32m   1769\u001b[0m \u001b[38;5;28;01mif\u001b[39;00m bbox \u001b[38;5;129;01mis\u001b[39;00m \u001b[38;5;28;01mNone\u001b[39;00m:\n\u001b[0;32m   1770\u001b[0m     \u001b[38;5;66;03m# iterate through all shapes and records\u001b[39;00m\n\u001b[1;32m-> 1771\u001b[0m     \u001b[38;5;28;01mfor\u001b[39;00m shape, record \u001b[38;5;129;01min\u001b[39;00m izip(\u001b[38;5;28mself\u001b[39m\u001b[38;5;241m.\u001b[39miterShapes(), \u001b[38;5;28mself\u001b[39m\u001b[38;5;241m.\u001b[39miterRecords(fields\u001b[38;5;241m=\u001b[39mfields)):\n\u001b[0;32m   1772\u001b[0m         \u001b[38;5;28;01myield\u001b[39;00m ShapeRecord(shape\u001b[38;5;241m=\u001b[39mshape, record\u001b[38;5;241m=\u001b[39mrecord)\n\u001b[0;32m   1773\u001b[0m \u001b[38;5;28;01melse\u001b[39;00m:\n\u001b[0;32m   1774\u001b[0m     \u001b[38;5;66;03m# only iterate where shape.bbox overlaps with the given bbox\u001b[39;00m\n\u001b[0;32m   1775\u001b[0m     \u001b[38;5;66;03m# TODO: internal __record method should be faster but would have to\u001b[39;00m\n\u001b[0;32m   1776\u001b[0m     \u001b[38;5;66;03m# make sure to seek to correct file location... \u001b[39;00m\n\u001b[0;32m   1777\u001b[0m \n\u001b[0;32m   1778\u001b[0m     \u001b[38;5;66;03m#fieldTuples,recLookup,recStruct = self.__recordFields(fields)\u001b[39;00m\n",
      "File \u001b[1;32m~\\AppData\\Local\\Programs\\Python\\Python38\\lib\\site-packages\\shapefile.py:1728\u001b[0m, in \u001b[0;36mReader.iterRecords\u001b[1;34m(self, fields)\u001b[0m\n\u001b[0;32m   1722\u001b[0m \u001b[38;5;250m\u001b[39m\u001b[38;5;124;03m\"\"\"Returns a generator of records in a dbf file.\u001b[39;00m\n\u001b[0;32m   1723\u001b[0m \u001b[38;5;124;03mUseful for large shapefiles or dbf files.\u001b[39;00m\n\u001b[0;32m   1724\u001b[0m \u001b[38;5;124;03mTo only read some of the fields, specify the 'fields' arg as a\u001b[39;00m\n\u001b[0;32m   1725\u001b[0m \u001b[38;5;124;03mlist of one or more fieldnames.\u001b[39;00m\n\u001b[0;32m   1726\u001b[0m \u001b[38;5;124;03m\"\"\"\u001b[39;00m\n\u001b[0;32m   1727\u001b[0m \u001b[38;5;28;01mif\u001b[39;00m \u001b[38;5;28mself\u001b[39m\u001b[38;5;241m.\u001b[39mnumRecords \u001b[38;5;129;01mis\u001b[39;00m \u001b[38;5;28;01mNone\u001b[39;00m:\n\u001b[1;32m-> 1728\u001b[0m     \u001b[38;5;28;43mself\u001b[39;49m\u001b[38;5;241;43m.\u001b[39;49m\u001b[43m__dbfHeader\u001b[49m\u001b[43m(\u001b[49m\u001b[43m)\u001b[49m\n\u001b[0;32m   1729\u001b[0m f \u001b[38;5;241m=\u001b[39m \u001b[38;5;28mself\u001b[39m\u001b[38;5;241m.\u001b[39m__getFileObj(\u001b[38;5;28mself\u001b[39m\u001b[38;5;241m.\u001b[39mdbf)\n\u001b[0;32m   1730\u001b[0m f\u001b[38;5;241m.\u001b[39mseek(\u001b[38;5;28mself\u001b[39m\u001b[38;5;241m.\u001b[39m__dbfHdrLength)\n",
      "File \u001b[1;32m~\\AppData\\Local\\Programs\\Python\\Python38\\lib\\site-packages\\shapefile.py:1509\u001b[0m, in \u001b[0;36mReader.__dbfHeader\u001b[1;34m(self)\u001b[0m\n\u001b[0;32m   1507\u001b[0m \u001b[38;5;250m\u001b[39m\u001b[38;5;124;03m\"\"\"Reads a dbf header. Xbase-related code borrows heavily from ActiveState Python Cookbook Recipe 362715 by Raymond Hettinger\"\"\"\u001b[39;00m\n\u001b[0;32m   1508\u001b[0m \u001b[38;5;28;01mif\u001b[39;00m \u001b[38;5;129;01mnot\u001b[39;00m \u001b[38;5;28mself\u001b[39m\u001b[38;5;241m.\u001b[39mdbf:\n\u001b[1;32m-> 1509\u001b[0m     \u001b[38;5;28;01mraise\u001b[39;00m ShapefileException(\u001b[38;5;124m\"\u001b[39m\u001b[38;5;124mShapefile Reader requires a shapefile or file-like object. (no dbf file found)\u001b[39m\u001b[38;5;124m\"\u001b[39m)\n\u001b[0;32m   1510\u001b[0m dbf \u001b[38;5;241m=\u001b[39m \u001b[38;5;28mself\u001b[39m\u001b[38;5;241m.\u001b[39mdbf\n\u001b[0;32m   1511\u001b[0m \u001b[38;5;66;03m# read relevant header parts\u001b[39;00m\n",
      "\u001b[1;31mShapefileException\u001b[0m: Shapefile Reader requires a shapefile or file-like object. (no dbf file found)"
     ]
    },
    {
     "data": {
      "text/plain": [
       "<Figure size 640x480 with 0 Axes>"
      ]
     },
     "metadata": {},
     "output_type": "display_data"
    }
   ],
   "source": [
    "import shapefile as shp\n",
    "import matplotlib.pyplot as plt\n",
    "\n",
    "sf = shp.Reader(\"./ch2_tmc_cal.shp\")\n",
    "plt.figure()\n",
    "for shape in sf.shapeRecords():\n",
    "    x = [i[0] for i in shape.shape.points[:]]\n",
    "    y = [i[1] for i in shape.shape.points[:]]\n",
    "    plt.plot(x, y)\n",
    "plt.show()"
   ]
  },
  {
   "cell_type": "code",
   "execution_count": null,
   "id": "3e615171-8bda-482f-9c77-22d81ed33c21",
   "metadata": {},
   "outputs": [],
   "source": []
  }
 ],
 "metadata": {
  "kernelspec": {
   "display_name": "Python 3 (ipykernel)",
   "language": "python",
   "name": "python3"
  },
  "language_info": {
   "codemirror_mode": {
    "name": "ipython",
    "version": 3
   },
   "file_extension": ".py",
   "mimetype": "text/x-python",
   "name": "python",
   "nbconvert_exporter": "python",
   "pygments_lexer": "ipython3",
   "version": "3.8.10"
  }
 },
 "nbformat": 4,
 "nbformat_minor": 5
}
