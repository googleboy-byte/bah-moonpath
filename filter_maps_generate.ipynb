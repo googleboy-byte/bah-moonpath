{
 "cells": [
  {
   "cell_type": "code",
   "execution_count": null,
   "id": "3d43006b-b945-4b52-b4c1-292934446aee",
   "metadata": {},
   "outputs": [],
   "source": [
    "from IPython.display import display, HTML\n",
    "display(HTML(\"<style>.container { width:100% !important; }</style>\"))"
   ]
  },
  {
   "cell_type": "code",
   "execution_count": null,
   "id": "9b8a04b0-0794-403f-8e1f-2b63509abc92",
   "metadata": {},
   "outputs": [],
   "source": [
    "%matplotlib inline\n",
    "import mpld3\n",
    "mpld3.enable_notebook()\n",
    "import rasterio\n",
    "from rasterio.crs import CRS\n",
    "from matplotlib import pyplot as plt\n",
    "import cv2\n",
    "import numpy as np\n",
    "from skimage.feature import hessian_matrix, hessian_matrix_eigvals\n",
    "from PIL import Image\n",
    "from rasterio.plot import reshape_as_image"
   ]
  },
  {
   "cell_type": "markdown",
   "id": "f5e039ff-233a-4b0e-881c-4b4f4eeca699",
   "metadata": {},
   "source": [
    "### Data files from Indian Space Data Center"
   ]
  },
  {
   "cell_type": "code",
   "execution_count": null,
   "id": "96413ddd-288e-42e9-a5b2-c69137f9030a",
   "metadata": {},
   "outputs": [],
   "source": [
    "optical_high_res_01 = r'./landingzone_ref/ch2_ohr_nrp_20240229T0921593215_d_img_d18/browse/raw/20240229/ch2_ohr_nrp_20240229T0921593215_b_brw_d18.png'\n",
    "img_01_tif = r'./final_input/tmc_roi.tif'\n",
    "img_01_relief_tif = r'./final_input/tmc_roi_slope.tif'\n"
   ]
  },
  {
   "cell_type": "markdown",
   "id": "7048f363-73a8-4643-8fc9-0d7c56e67855",
   "metadata": {},
   "source": [
    "### Load raster and extract ROI"
   ]
  },
  {
   "cell_type": "code",
   "execution_count": null,
   "id": "30b99f31-d44c-4a35-8f47-700cdf196954",
   "metadata": {},
   "outputs": [],
   "source": [
    "img1 = cv2.imread(optical_high_res_01)\n",
    "img_relief = cv2.imread(img_01_relief_tif)\n",
    "rasterdat = rasterio.open(img_01_tif, \"r+\")\n",
    "\n",
    "scale = 0.23 # meter / pixel\n",
    "img = rasterdat.read()\n",
    "img = reshape_as_image(img)\n",
    "img = cv2.cvtColor(img, cv2.COLOR_BGRA2BGR)\n",
    "\n",
    "img1_relief = rasterio.open(img_01_relief_tif, \"r+\")\n",
    "img1_relief = reshape_as_image(img)\n",
    "img1_relief = cv2.cvtColor(img, cv2.COLOR_BGRA2BGR)\n",
    "\n",
    "print(img_relief.shape)\n",
    "print(img.shape)\n",
    "print(img1.shape)\n",
    "print(\"shape printed\")\n",
    "\n",
    "height, width = img.shape[:2]\n",
    "print(\"Img height: \" + str(height) + \" Img width: \" +  str(width))\n",
    "\n",
    "ylimit = int(0.33 * height)\n",
    "\n",
    "# img_roi = img[0:1200, 0:1200]\n",
    "# img_roi = img[0:1000, 0:1000]\n",
    "img_roi = img\n",
    "# img_roi_copy1 = img[0:1200, 0:1200]\n",
    "# img_roi_copy1 = img[0:1000, 0:1000]\n",
    "img_roi_copy1 = img\n",
    "img_roi_copy2 = img.copy()\n",
    "relief_copy = img_relief.copy()\n",
    "\n",
    "plt.imshow(img_roi)"
   ]
  },
  {
   "cell_type": "code",
   "execution_count": null,
   "id": "659ded0c-3c4b-4b78-b9ff-4132726a3413",
   "metadata": {},
   "outputs": [],
   "source": [
    "plt.imshow(relief_copy)"
   ]
  },
  {
   "cell_type": "code",
   "execution_count": null,
   "id": "1613e96d-ac8f-48a4-926b-5f896591ecfe",
   "metadata": {},
   "outputs": [],
   "source": [
    "# #placing stop points manually for now from hyperspectral analysis results\n",
    "\n",
    "# cv2.circle(img_roi, (2170, 3535), int(40), (255, 0, 0), 7)\n",
    "# cv2.circle(img_roi, (4180, 2540), int(40), (255, 0, 0), 7)\n",
    "# cv2.circle(img_roi, (4730, 1080), int(40), (255, 0, 0), 7)\n",
    "# cv2.circle(img_roi, (3620, 1450), int(40), (255, 0, 0), 7)\n",
    "# cv2.circle(img_roi, (3605, 1985), int(40), (255, 0, 0), 7)\n",
    "# cv2.circle(img_roi, (2640, 2020), int(40), (255, 0, 0), 7)\n",
    "# cv2.circle(img_roi, (2570, 2510), int(40), (255, 0, 0), 7)\n",
    "# cv2.circle(img_roi, (2950, 2455), int(40), (255, 0, 0), 7)\n",
    "# cv2.circle(img_roi, (2140, 3120), int(40), (255, 0, 0), 7)\n",
    "# cv2.circle(img_roi, (1480, 2700), int(40), (255, 0, 0), 7)\n",
    "# cv2.circle(img_roi, (1250, 3050), int(40), (255, 0, 0), 7)\n",
    "# cv2.circle(img_roi, (1120, 1700), int(40), (255, 0, 0), 7)\n",
    "# cv2.circle(img_roi, (830, 2470), int(40), (255, 0, 0), 7)\n",
    "# cv2.circle(img_roi, (620, 3360), int(40), (255, 0, 0), 7)\n",
    "\n",
    "# plt.imshow(img_roi)"
   ]
  },
  {
   "cell_type": "markdown",
   "id": "4f59647e-8e9f-40ea-af74-0fdc786bbfec",
   "metadata": {},
   "source": [
    "### Mask high slope areas in gradient range"
   ]
  },
  {
   "cell_type": "code",
   "execution_count": null,
   "id": "87a92c87-67b5-4a80-9e21-770f905ca733",
   "metadata": {},
   "outputs": [],
   "source": [
    "\n",
    "blur = cv2.GaussianBlur(img_roi, (5,5), 0)\n",
    "blur_hsv = cv2.cvtColor(blur, cv2.COLOR_BGR2HSV)\n",
    "\n",
    "# create NumPy arrays from the boundaries\n",
    "lower = np.array([0,0,0], dtype = \"uint8\")\n",
    "# upper = np.array([180,255,60], dtype = \"uint8\")\n",
    "upper = np.array([105,160,15], dtype = \"uint8\")\n",
    "\n",
    "# find the colors within the specified boundaries and apply\n",
    "mask = cv2.inRange(blur_hsv, lower, upper)  \n",
    "mask = 255 - mask\n",
    "img_roi = cv2.bitwise_and(img_roi, img_roi, mask = mask)\n",
    "\n",
    "img_roi[mask == 0] = (0, 0, 200)\n",
    "# img_roi[mask == 0] = (255, 255, 255) # wf\n",
    "\n",
    "img_relief_gray = cv2.cvtColor(img_relief, cv2.COLOR_BGR2GRAY)\n",
    "\n",
    "# lower_relief = np.array([50,50,50], dtype = \"uint8\")\n",
    "# upper_relief = np.array([200,200,255], dtype = \"uint8\")\n",
    "\n",
    "# # hsv_relief[mask == 0] = (255, 0, 0)\n",
    "\n",
    "mask_relief = cv2.inRange(img_relief_gray, 40, 255)  # slope z factor qgis = 20.000000\n",
    "# # mask_relief = 255 - mask_relief\n",
    "# img_relief = cv2.bitwise_and(img_relief, img_relief, mask = mask_relief)\n",
    "# # img_relief[mask != 0] = (0, 0, 0)\n",
    "# gray_relief = cv2.cvtColor(img_relief, cv2.COLOR_BGR2GRAY)\n",
    "blur_relief = cv2.GaussianBlur(mask_relief, (21, 21), 0)\n",
    "canny_edges_relief = cv2.Canny(blur_relief, 1, 6)\n",
    "canny_edges_3channel_relief = cv2.cvtColor(canny_edges_relief, cv2.COLOR_GRAY2BGR)\n",
    "canny_edges_3channel_relief *= np.array((1,1,1),np.uint8)\n",
    "\n",
    "img_roi = cv2.addWeighted(img_roi, 0.9, canny_edges_3channel_relief, 1, 0)\n",
    "print(img_relief.shape)\n",
    "print(np.min(img_relief))\n",
    "print(np.max(img_relief))\n",
    "plt.imshow(canny_edges_3channel_relief)"
   ]
  },
  {
   "cell_type": "code",
   "execution_count": null,
   "id": "753591bc-1419-40b1-bb57-f9ba9fc6eb93",
   "metadata": {},
   "outputs": [],
   "source": [
    "# plt.imshow(img)"
   ]
  },
  {
   "cell_type": "markdown",
   "id": "6ecb0ba1-808b-4ecc-972f-b2bf4fdd83a6",
   "metadata": {},
   "source": [
    "### Ridge detection with canny edge algorithm"
   ]
  },
  {
   "cell_type": "code",
   "execution_count": null,
   "id": "6b64b3a1-aef5-422f-80ec-a599afb7446f",
   "metadata": {},
   "outputs": [],
   "source": [
    "gray1 = cv2.cvtColor(img_roi_copy1, cv2.COLOR_BGR2GRAY)\n",
    "blur1 = cv2.GaussianBlur(gray1, (45, 45), 0)\n",
    "canny_edges = cv2.Canny(blur1, 4, 10)\n",
    "canny_edges_3channel = cv2.cvtColor(canny_edges, cv2.COLOR_GRAY2BGR)\n",
    "canny_edges_3channel *= np.array((1,1,0),np.uint8) # setting color of canny edges to white explicitly, set value 1,0,0 to convert to red\n",
    "# canny_edges_3channel *= np.array((1,1,1),np.uint8) # setting color of canny edges to white explicitly, set value 1,0,0 to convert to red # wf\n",
    "print(canny_edges_3channel.shape)\n",
    "print(img_roi.shape)\n",
    "img_roi = cv2.addWeighted(img_roi, 0.7, canny_edges_3channel, 0.5, 0.0, 0.0)\n",
    "\n",
    "plt.imshow(canny_edges_3channel)"
   ]
  },
  {
   "cell_type": "markdown",
   "id": "5acfba1b-b444-4802-b815-af8ce3adcebf",
   "metadata": {},
   "source": [
    "### Multi level crater filtering"
   ]
  },
  {
   "cell_type": "code",
   "execution_count": null,
   "id": "34cdd279-02f8-4c4e-851e-c7ae460a708c",
   "metadata": {},
   "outputs": [],
   "source": [
    "gray = cv2.cvtColor(img_roi, cv2.COLOR_BGR2GRAY)\n",
    "# gray = img\n",
    "gray_blurred = cv2.blur(gray, (3, 3)) \n",
    "# grayImage = np.array(minima_ridges*255).astype('uint8')\n",
    "\n",
    "# plt.imshow(grayImage)\n",
    "# grayImage_blurred = cv2.blur(grayImage, (3,3))\n",
    "# print(uint_img.shape)\n",
    "print(gray.shape)\n",
    "\n",
    "########### primary crater filter #######################\n",
    "detected_circles = cv2.HoughCircles(canny_edges,\n",
    "                   cv2.HOUGH_GRADIENT, 1, 20, param1 = 35, \n",
    "               param2 = 25.5, minRadius = 0, maxRadius = 45) \n",
    "      \n",
    "########### primary crater filter end #######################\n",
    "\n",
    "########### secondary (finer) crater filter #######################\n",
    "detected_circles1 = cv2.HoughCircles(gray_blurred,\n",
    "                   cv2.HOUGH_GRADIENT, 1, 20, param1 = 35.7, \n",
    "               param2 = 25.6, minRadius = 0, maxRadius = 27) \n",
    "        \n",
    "# ########### secondary crater filter end #######################\n",
    "\n",
    "# ########### sieve (ultra fine) crater filter #######################\n",
    "# detected_circles2 = cv2.HoughCircles(gray_blurred,\n",
    "#                    cv2.HOUGH_GRADIENT, 1, 20, param1 = 14, \n",
    "#                param2 = 14, minRadius = 0, maxRadius = 10) \n",
    "        \n",
    "# ########### sieve crater filter end #######################\n",
    "  "
   ]
  },
  {
   "cell_type": "markdown",
   "id": "c73f7fad-0487-4b6f-999c-d30a1b28a767",
   "metadata": {},
   "source": [
    "### Draw crater filters on ROI"
   ]
  },
  {
   "cell_type": "code",
   "execution_count": null,
   "id": "12a97423-e080-47b3-9089-143127768b55",
   "metadata": {},
   "outputs": [],
   "source": [
    "\n",
    "# if detected_circles2 is not None: \n",
    "  \n",
    "#     detected_circles2 = np.uint16(np.around(detected_circles2)) \n",
    "  \n",
    "#     for pt in detected_circles2[0, :]: \n",
    "#         a, b, r = pt[0], pt[1], pt[2] \n",
    "  \n",
    "#         # Draw the circumference of the circle. \n",
    "#         # cv2.circle(img_roi, (a, b), int(r/2.5), (0, 255, 0), -1)\n",
    "#         # cv2.circle(img_roi, (a, b), int(r), (0, 255, 0), 1) \n",
    "\n",
    "#         # cv2.circle(img_roi, (a, b), int(r-(r/2)), (0, 0, 0), -1) \n",
    "  \n",
    "#         # Draw a small circle (of radius 1) to show the center. \n",
    "#         # cv2.circle(img_roi, (a, b), 1, (0, 0, 255), 3) \n",
    "\n",
    "blank = np.zeros((5101, 5090, 3))\n",
    "if detected_circles1 is not None: \n",
    "  \n",
    "    detected_circles1 = np.uint16(np.around(detected_circles1)) \n",
    "  \n",
    "    for pt in detected_circles1[0, :]: \n",
    "        a, b, r = pt[0], pt[1], pt[2] \n",
    "  \n",
    "        # Draw the circumference of the circle. \n",
    "        # cv2.circle(img_roi, (a, b), int(r/1.1), (255, 255, 255), -1) # wf\n",
    "        # cv2.circle(img_roi, (a, b), int(r/1.1), (255, 255, 0), 2) \n",
    "\n",
    "        # cv2.circle(img_roi, (a, b), int(r-(r/2)), (0, 0, 0), -1) \n",
    "  \n",
    "        # Draw a small circle (of radius 1) to show the center. \n",
    "        # cv2.circle(img_roi, (a, b), 1, (0, 0, 255), 3) \n",
    "\n",
    "if detected_circles is not None: \n",
    "  \n",
    "    detected_circles = np.uint16(np.around(detected_circles)) \n",
    "  \n",
    "    for pt in detected_circles[0, :]: \n",
    "        a, b, r = pt[0], pt[1], pt[2] \n",
    "  \n",
    "        # Draw the circumference of the circle. \n",
    "        # cv2.circle(img_roi, (a, b), int(r/1.5), (255, 255, 255), -1) # wf\n",
    "        cv2.circle(img_roi, (a, b), int(r/1.5), (0, 255, 0), 2) \n",
    "        cv2.circle(blank, (a, b), int(r/1.5), (0, 255, 0), 2)\n",
    "\n",
    "        # cv2.circle(img_roi, (a, b), int(r-(r/2)), (0, 0, 0), -1) \n",
    "  \n",
    "        # Draw a small circle (of radius 1) to show the center. \n",
    "        # cv2.circle(img_roi, (a, b), 1, (0, 0, 255), 3) \n",
    "\n",
    "plt.imshow(blank)"
   ]
  },
  {
   "cell_type": "code",
   "execution_count": null,
   "id": "fb7d3103-6932-447a-ae47-2f202608504b",
   "metadata": {},
   "outputs": [],
   "source": [
    "plt.imshow(img_roi)"
   ]
  },
  {
   "cell_type": "code",
   "execution_count": null,
   "id": "f702a947-2397-427f-9e26-8b0c6ac0a7be",
   "metadata": {},
   "outputs": [],
   "source": [
    "#placing stop points manually for now from hyperspectral analysis results\n",
    "\n",
    "cv2.circle(img_roi, (2170, 3535), int(40), (255, 0, 0), 7)\n",
    "cv2.circle(img_roi, (4180, 2540), int(40), (255, 0, 0), 7)\n",
    "cv2.circle(img_roi, (4730, 1080), int(40), (255, 0, 0), 7)\n",
    "cv2.circle(img_roi, (3620, 1450), int(40), (255, 0, 0), 7)\n",
    "cv2.circle(img_roi, (3605, 1985), int(40), (255, 0, 0), 7)\n",
    "cv2.circle(img_roi, (2640, 2020), int(40), (255, 0, 0), 7)\n",
    "cv2.circle(img_roi, (2570, 2510), int(40), (255, 0, 0), 7)\n",
    "cv2.circle(img_roi, (2950, 2455), int(40), (255, 0, 0), 7)\n",
    "cv2.circle(img_roi, (2140, 3120), int(40), (255, 0, 0), 7)\n",
    "cv2.circle(img_roi, (1480, 2700), int(40), (255, 0, 0), 7)\n",
    "cv2.circle(img_roi, (1250, 3050), int(40), (255, 0, 0), 7)\n",
    "cv2.circle(img_roi, (1120, 1700), int(40), (255, 0, 0), 7)\n",
    "cv2.circle(img_roi, (830, 2470), int(40), (255, 0, 0), 7)\n",
    "cv2.circle(img_roi, (620, 3360), int(40), (255, 0, 0), 7)\n",
    "\n",
    "plt.imshow(img_roi)"
   ]
  },
  {
   "cell_type": "code",
   "execution_count": null,
   "id": "61490ac9-40a4-4cc6-9fce-a6ff073295db",
   "metadata": {},
   "outputs": [],
   "source": [
    "import pickle\n",
    "\n",
    "with open(\"img_roi.nparr\", \"wb\") as img_roi_file:\n",
    "    pickle.dump(img_roi, img_roi_file)\n",
    "filter_layer = cv2.subtract(img_roi, img_roi_copy2)\n",
    "with open(\"filter_layer.nparr\", \"wb\") as filterlayer_file:\n",
    "    pickle.dump(filter_layer, filterlayer_file)\n",
    "# with open(\"relief_depth_file.nparr\", \"wb\") as depthfile:\n",
    "#     pickle.dump(relief_copy, depthfile)\n",
    "plt.imshow(filter_layer)"
   ]
  },
  {
   "cell_type": "code",
   "execution_count": null,
   "id": "60da107a-2be5-45f3-a717-8bc38c4f5d24",
   "metadata": {},
   "outputs": [],
   "source": []
  }
 ],
 "metadata": {
  "kernelspec": {
   "display_name": "Python 3 (ipykernel)",
   "language": "python",
   "name": "python3"
  },
  "language_info": {
   "codemirror_mode": {
    "name": "ipython",
    "version": 3
   },
   "file_extension": ".py",
   "mimetype": "text/x-python",
   "name": "python",
   "nbconvert_exporter": "python",
   "pygments_lexer": "ipython3",
   "version": "3.10.12"
  }
 },
 "nbformat": 4,
 "nbformat_minor": 5
}
